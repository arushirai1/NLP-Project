{
 "cells": [
  {
   "cell_type": "code",
   "execution_count": 28,
   "id": "f33451d5-4d7d-470f-937d-456f4a14df34",
   "metadata": {},
   "outputs": [],
   "source": [
    "import importlib\n",
    "import Dataset\n",
    "importlib.reload(Dataset)\n",
    "from Dataset import MAMIDataset\n"
   ]
  },
  {
   "cell_type": "code",
   "execution_count": 29,
   "id": "3c8c5672-fb59-4249-8335-0e6ad0d08ba9",
   "metadata": {},
   "outputs": [
    {
     "data": {
      "application/vnd.jupyter.widget-view+json": {
       "model_id": "837e777e3cae427e9470039ff0c6ef32",
       "version_major": 2,
       "version_minor": 0
      },
      "text/plain": [
       "  0%|          | 0/8000 [00:00<?, ?it/s]"
      ]
     },
     "metadata": {},
     "output_type": "display_data"
    },
    {
     "data": {
      "application/vnd.jupyter.widget-view+json": {
       "model_id": "237a6c89011e4e2090391a43bca4b806",
       "version_major": 2,
       "version_minor": 0
      },
      "text/plain": [
       "  0%|          | 0/8000 [00:00<?, ?it/s]"
      ]
     },
     "metadata": {},
     "output_type": "display_data"
    },
    {
     "data": {
      "application/vnd.jupyter.widget-view+json": {
       "model_id": "83b1540efb5841cf82f7ed23191adbd7",
       "version_major": 2,
       "version_minor": 0
      },
      "text/plain": [
       "  0%|          | 0/8000 [00:00<?, ?it/s]"
      ]
     },
     "metadata": {},
     "output_type": "display_data"
    },
    {
     "data": {
      "application/vnd.jupyter.widget-view+json": {
       "model_id": "f83709aec0284261b872f7466b0ed3aa",
       "version_major": 2,
       "version_minor": 0
      },
      "text/plain": [
       "  0%|          | 0/7926 [00:00<?, ?it/s]"
      ]
     },
     "metadata": {},
     "output_type": "display_data"
    },
    {
     "name": "stderr",
     "output_type": "stream",
     "text": [
      "/Users/arushirai/Downloads/Notebooks_export/NLP-Project/Dataset.py:72: SettingWithCopyWarning: \n",
      "A value is trying to be set on a copy of a slice from a DataFrame.\n",
      "Try using .loc[row_indexer,col_indexer] = value instead\n",
      "\n",
      "See the caveats in the documentation: https://pandas.pydata.org/pandas-docs/stable/user_guide/indexing.html#returning-a-view-versus-a-copy\n",
      "  df['indexed_tokens'] = df.tokens.progress_apply(\n"
     ]
    },
    {
     "data": {
      "application/vnd.jupyter.widget-view+json": {
       "model_id": "ba055e1265e34d52a13b35c38be21549",
       "version_major": 2,
       "version_minor": 0
      },
      "text/plain": [
       "  0%|          | 0/7926 [00:00<?, ?it/s]"
      ]
     },
     "metadata": {},
     "output_type": "display_data"
    },
    {
     "name": "stderr",
     "output_type": "stream",
     "text": [
      "/Users/arushirai/Downloads/Notebooks_export/NLP-Project/Dataset.py:77: SettingWithCopyWarning: \n",
      "A value is trying to be set on a copy of a slice from a DataFrame.\n",
      "Try using .loc[row_indexer,col_indexer] = value instead\n",
      "\n",
      "See the caveats in the documentation: https://pandas.pydata.org/pandas-docs/stable/user_guide/indexing.html#returning-a-view-versus-a-copy\n",
      "  df['bow_vector'] = df.indexed_tokens.progress_apply(\n",
      "/Users/arushirai/Downloads/Notebooks_export/NLP-Project/Dataset.py:88: SettingWithCopyWarning: \n",
      "A value is trying to be set on a copy of a slice from a DataFrame.\n",
      "Try using .loc[row_indexer,col_indexer] = value instead\n",
      "\n",
      "See the caveats in the documentation: https://pandas.pydata.org/pandas-docs/stable/user_guide/indexing.html#returning-a-view-versus-a-copy\n",
      "  vectors = vectorizer.fit_transform(df.tokens).toarray()\n"
     ]
    }
   ],
   "source": [
    "from params import *\n",
    "train_dataset = MAMIDataset(MAX_LEN,MAX_VOCAB, split='train')\n"
   ]
  },
  {
   "cell_type": "code",
   "execution_count": 30,
   "id": "3441179b-b727-44fe-862a-75e1225cddfe",
   "metadata": {},
   "outputs": [
    {
     "data": {
      "text/plain": [
       "[('women', 752),\n",
       " ('like', 639),\n",
       " ('imgflip.com', 528),\n",
       " (\"i'm\", 475),\n",
       " ('woman', 457),\n",
       " ('get', 440),\n",
       " ('men', 327),\n",
       " ('-', 314),\n",
       " ('wife', 300),\n",
       " ('one', 295)]"
      ]
     },
     "execution_count": 30,
     "metadata": {},
     "output_type": "execute_result"
    }
   ],
   "source": [
    "from collections import Counter\n",
    "# all words\n",
    "all_words=[]\n",
    "[all_words.extend([token.lower() for token in i.split() if token.lower() not in train_dataset.stop_words]) for i in train_dataset.text]\n",
    "Counter(all_words).most_common(10)"
   ]
  },
  {
   "cell_type": "code",
   "execution_count": 31,
   "id": "46fd76f4-a0de-4f26-b5bb-2d91afaa2278",
   "metadata": {},
   "outputs": [
    {
     "data": {
      "text/plain": [
       "True"
      ]
     },
     "execution_count": 31,
     "metadata": {},
     "output_type": "execute_result"
    }
   ],
   "source": [
    "'a' in train_dataset.stop_words"
   ]
  },
  {
   "cell_type": "code",
   "execution_count": 33,
   "id": "6ad92aac-7630-42ec-a0e2-da7213a0b373",
   "metadata": {},
   "outputs": [
    {
     "name": "stderr",
     "output_type": "stream",
     "text": [
      "7926it [00:00, 192392.36it/s]\n"
     ]
    },
    {
     "data": {
      "text/plain": [
       "[('women', 606),\n",
       " ('like', 383),\n",
       " ('woman', 304),\n",
       " ('imgflip.com', 233),\n",
       " ('men', 229),\n",
       " ('get', 223),\n",
       " ('girls', 214),\n",
       " ('girl', 207),\n",
       " (\"i'm\", 199),\n",
       " ('quickmeme.com', 192)]"
      ]
     },
     "execution_count": 33,
     "metadata": {},
     "output_type": "execute_result"
    }
   ],
   "source": [
    "from tqdm import tqdm \n",
    "misogyny_words=[]\n",
    "pb = tqdm(enumerate(train_dataset.text))\n",
    "for i, text in pb:\n",
    "    if train_dataset.label_arr[i][0] == 1:\n",
    "        misogyny_words.extend([token.lower() for token in text.split() if token.lower() not in train_dataset.stop_words])\n",
    "        \n",
    "Counter(misogyny_words).most_common(10)"
   ]
  },
  {
   "cell_type": "code",
   "execution_count": 35,
   "id": "fb440753-82a3-4132-8605-06c7c13c14b2",
   "metadata": {},
   "outputs": [
    {
     "name": "stderr",
     "output_type": "stream",
     "text": [
      "7926it [00:00, 111657.64it/s]\n"
     ]
    },
    {
     "data": {
      "text/plain": [
       "[('imgflip.com', 295),\n",
       " (\"i'm\", 276),\n",
       " ('like', 256),\n",
       " ('girlfriend', 226),\n",
       " ('call', 224),\n",
       " ('house', 217),\n",
       " ('get', 217),\n",
       " ('me:', 211),\n",
       " ('wife', 190),\n",
       " ('one', 173)]"
      ]
     },
     "execution_count": 35,
     "metadata": {},
     "output_type": "execute_result"
    }
   ],
   "source": [
    "from tqdm import tqdm \n",
    "non_misogyny_words=[]\n",
    "pb = tqdm(enumerate(train_dataset.text))\n",
    "for i, text in pb:\n",
    "    if train_dataset.label_arr[i][0] == 0:\n",
    "        non_misogyny_words.extend([token.lower() for token in text.split() if token.lower() not in train_dataset.stop_words])\n",
    "        \n",
    "Counter(non_misogyny_words).most_common(10)"
   ]
  },
  {
   "cell_type": "code",
   "execution_count": 32,
   "id": "3bb2fa9b-2272-4feb-88d1-5a5b0138c61b",
   "metadata": {},
   "outputs": [
    {
     "data": {
      "text/plain": [
       "7926"
      ]
     },
     "execution_count": 32,
     "metadata": {},
     "output_type": "execute_result"
    }
   ],
   "source": [
    "len(train_dataset.text)"
   ]
  },
  {
   "cell_type": "code",
   "execution_count": 27,
   "id": "4b00f1d5-3034-4d6e-9bbc-1d6d6fa9e4cf",
   "metadata": {},
   "outputs": [
    {
     "data": {
      "text/plain": [
       "7926"
      ]
     },
     "execution_count": 27,
     "metadata": {},
     "output_type": "execute_result"
    }
   ],
   "source": [
    "len(train_dataset.label_arr)"
   ]
  },
  {
   "cell_type": "code",
   "execution_count": 48,
   "id": "ec5cf52d-df7a-495d-972f-9cb686736f1c",
   "metadata": {},
   "outputs": [],
   "source": [
    "non_misogyny_words_set=set(list(zip(*Counter(non_misogyny_words).most_common(50)))[0])\n",
    "misogyny_words_set=set(list(zip(*Counter(misogyny_words).most_common(50)))[0])"
   ]
  },
  {
   "cell_type": "code",
   "execution_count": 49,
   "id": "f109e05f-96d7-4981-b65b-c08d92096613",
   "metadata": {},
   "outputs": [
    {
     "data": {
      "text/plain": [
       "{'-',\n",
       " \"can't\",\n",
       " 'female',\n",
       " 'first',\n",
       " 'get',\n",
       " 'go',\n",
       " 'good',\n",
       " 'got',\n",
       " 'hooker',\n",
       " \"i'm\",\n",
       " 'imgflip.com',\n",
       " 'kitchen',\n",
       " 'know',\n",
       " 'like',\n",
       " 'made',\n",
       " 'make',\n",
       " 'man',\n",
       " 'men',\n",
       " 'never',\n",
       " 'new',\n",
       " 'one',\n",
       " 'see',\n",
       " 'think',\n",
       " 'time',\n",
       " 'want',\n",
       " 'wife',\n",
       " 'woman',\n",
       " 'women'}"
      ]
     },
     "execution_count": 49,
     "metadata": {},
     "output_type": "execute_result"
    }
   ],
   "source": [
    "non_misogyny_words_set.intersection(misogyny_words_set)"
   ]
  },
  {
   "cell_type": "code",
   "execution_count": 56,
   "id": "0ed25f2d-fc4a-436b-a7dd-f9d3d3a712d5",
   "metadata": {},
   "outputs": [
    {
     "name": "stdout",
     "output_type": "stream",
     "text": [
      "4002 3924\n"
     ]
    }
   ],
   "source": [
    "# getting counts per class\n",
    "m_count=sum([int([i][0][0]) for i in train_dataset.label_arr])\n",
    "nm_count=len(train_dataset.label_arr) - m_count\n",
    "print(m_count, nm_count)"
   ]
  },
  {
   "cell_type": "code",
   "execution_count": null,
   "id": "993530e1-c64c-40e6-91e2-330a2ad7205e",
   "metadata": {},
   "outputs": [],
   "source": []
  }
 ],
 "metadata": {
  "kernelspec": {
   "display_name": "PyCharm (untitled)",
   "language": "python",
   "name": "pycharm-4b0cbf1"
  },
  "language_info": {
   "codemirror_mode": {
    "name": "ipython",
    "version": 3
   },
   "file_extension": ".py",
   "mimetype": "text/x-python",
   "name": "python",
   "nbconvert_exporter": "python",
   "pygments_lexer": "ipython3",
   "version": "3.6.10"
  }
 },
 "nbformat": 4,
 "nbformat_minor": 5
}
